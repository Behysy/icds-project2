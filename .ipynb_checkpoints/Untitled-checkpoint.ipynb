{
 "cells": [
  {
   "cell_type": "code",
   "execution_count": 2,
   "metadata": {},
   "outputs": [],
   "source": [
    "import pandas as pd\n",
    "from sklearn.feature_extraction.text import TfidfVectorizer\n",
    "import nltk"
   ]
  },
  {
   "cell_type": "code",
   "execution_count": 3,
   "metadata": {},
   "outputs": [],
   "source": [
    "df = pd.read_csv('reviews.csv').drop('Unnamed: 0', axis=1)"
   ]
  },
  {
   "cell_type": "code",
   "execution_count": 4,
   "metadata": {},
   "outputs": [
    {
     "data": {
      "text/html": [
       "<div>\n",
       "<style scoped>\n",
       "    .dataframe tbody tr th:only-of-type {\n",
       "        vertical-align: middle;\n",
       "    }\n",
       "\n",
       "    .dataframe tbody tr th {\n",
       "        vertical-align: top;\n",
       "    }\n",
       "\n",
       "    .dataframe thead th {\n",
       "        text-align: right;\n",
       "    }\n",
       "</style>\n",
       "<table border=\"1\" class=\"dataframe\">\n",
       "  <thead>\n",
       "    <tr style=\"text-align: right;\">\n",
       "      <th></th>\n",
       "      <th>rating</th>\n",
       "      <th>title</th>\n",
       "      <th>text</th>\n",
       "    </tr>\n",
       "  </thead>\n",
       "  <tbody>\n",
       "    <tr>\n",
       "      <th>0</th>\n",
       "      <td>10</td>\n",
       "      <td>Some birds aren't meant to be caged.\\n</td>\n",
       "      <td>The Shawshank Redemption is written and direct...</td>\n",
       "    </tr>\n",
       "    <tr>\n",
       "      <th>1</th>\n",
       "      <td>10</td>\n",
       "      <td>Tied for the best movie I have ever seen\\n</td>\n",
       "      <td>Why do I want to write the 234th comment on Th...</td>\n",
       "    </tr>\n",
       "    <tr>\n",
       "      <th>2</th>\n",
       "      <td>10</td>\n",
       "      <td>An incredible movie. One that lives with you.\\n</td>\n",
       "      <td>It is no wonder that the film has such a high ...</td>\n",
       "    </tr>\n",
       "    <tr>\n",
       "      <th>3</th>\n",
       "      <td>10</td>\n",
       "      <td>Don't Rent Shawshank.\\n</td>\n",
       "      <td>I'm trying to save you money; this is the last...</td>\n",
       "    </tr>\n",
       "    <tr>\n",
       "      <th>4</th>\n",
       "      <td>10</td>\n",
       "      <td>This is How Movies Should Be Made\\n</td>\n",
       "      <td>This movie is not your ordinary Hollywood flic...</td>\n",
       "    </tr>\n",
       "  </tbody>\n",
       "</table>\n",
       "</div>"
      ],
      "text/plain": [
       "   rating                                             title  \\\n",
       "0      10            Some birds aren't meant to be caged.\\n   \n",
       "1      10        Tied for the best movie I have ever seen\\n   \n",
       "2      10   An incredible movie. One that lives with you.\\n   \n",
       "3      10                           Don't Rent Shawshank.\\n   \n",
       "4      10               This is How Movies Should Be Made\\n   \n",
       "\n",
       "                                                text  \n",
       "0  The Shawshank Redemption is written and direct...  \n",
       "1  Why do I want to write the 234th comment on Th...  \n",
       "2  It is no wonder that the film has such a high ...  \n",
       "3  I'm trying to save you money; this is the last...  \n",
       "4  This movie is not your ordinary Hollywood flic...  "
      ]
     },
     "execution_count": 4,
     "metadata": {},
     "output_type": "execute_result"
    }
   ],
   "source": [
    "df.head()"
   ]
  },
  {
   "cell_type": "code",
   "execution_count": 5,
   "metadata": {},
   "outputs": [
    {
     "data": {
      "text/html": [
       "<div>\n",
       "<style scoped>\n",
       "    .dataframe tbody tr th:only-of-type {\n",
       "        vertical-align: middle;\n",
       "    }\n",
       "\n",
       "    .dataframe tbody tr th {\n",
       "        vertical-align: top;\n",
       "    }\n",
       "\n",
       "    .dataframe thead th {\n",
       "        text-align: right;\n",
       "    }\n",
       "</style>\n",
       "<table border=\"1\" class=\"dataframe\">\n",
       "  <thead>\n",
       "    <tr style=\"text-align: right;\">\n",
       "      <th></th>\n",
       "      <th>rating</th>\n",
       "    </tr>\n",
       "  </thead>\n",
       "  <tbody>\n",
       "    <tr>\n",
       "      <th>count</th>\n",
       "      <td>70196.000000</td>\n",
       "    </tr>\n",
       "    <tr>\n",
       "      <th>mean</th>\n",
       "      <td>7.869708</td>\n",
       "    </tr>\n",
       "    <tr>\n",
       "      <th>std</th>\n",
       "      <td>2.877414</td>\n",
       "    </tr>\n",
       "    <tr>\n",
       "      <th>min</th>\n",
       "      <td>1.000000</td>\n",
       "    </tr>\n",
       "    <tr>\n",
       "      <th>25%</th>\n",
       "      <td>7.000000</td>\n",
       "    </tr>\n",
       "    <tr>\n",
       "      <th>50%</th>\n",
       "      <td>9.000000</td>\n",
       "    </tr>\n",
       "    <tr>\n",
       "      <th>75%</th>\n",
       "      <td>10.000000</td>\n",
       "    </tr>\n",
       "    <tr>\n",
       "      <th>max</th>\n",
       "      <td>10.000000</td>\n",
       "    </tr>\n",
       "  </tbody>\n",
       "</table>\n",
       "</div>"
      ],
      "text/plain": [
       "             rating\n",
       "count  70196.000000\n",
       "mean       7.869708\n",
       "std        2.877414\n",
       "min        1.000000\n",
       "25%        7.000000\n",
       "50%        9.000000\n",
       "75%       10.000000\n",
       "max       10.000000"
      ]
     },
     "execution_count": 5,
     "metadata": {},
     "output_type": "execute_result"
    }
   ],
   "source": [
    "df.describe()"
   ]
  },
  {
   "cell_type": "code",
   "execution_count": 6,
   "metadata": {},
   "outputs": [
    {
     "data": {
      "text/plain": [
       "(70196, 3)"
      ]
     },
     "execution_count": 6,
     "metadata": {},
     "output_type": "execute_result"
    }
   ],
   "source": [
    "df.shape"
   ]
  },
  {
   "cell_type": "code",
   "execution_count": 7,
   "metadata": {},
   "outputs": [
    {
     "name": "stdout",
     "output_type": "stream",
     "text": [
      "<class 'pandas.core.frame.DataFrame'>\n",
      "RangeIndex: 70196 entries, 0 to 70195\n",
      "Data columns (total 3 columns):\n",
      " #   Column  Non-Null Count  Dtype \n",
      "---  ------  --------------  ----- \n",
      " 0   rating  70196 non-null  int64 \n",
      " 1   title   70196 non-null  object\n",
      " 2   text    70196 non-null  object\n",
      "dtypes: int64(1), object(2)\n",
      "memory usage: 1.6+ MB\n"
     ]
    }
   ],
   "source": [
    "df.info()"
   ]
  },
  {
   "cell_type": "code",
   "execution_count": 8,
   "metadata": {},
   "outputs": [],
   "source": [
    "w_tokenizer = nltk.tokenize.WhitespaceTokenizer()\n",
    "lemmatizer = nltk.stem.WordNetLemmatizer()\n",
    "\n",
    "def lemmatize_text(text):\n",
    "    return [lemmatizer.lemmatize(w) for w in w_tokenizer.tokenize(text)]"
   ]
  },
  {
   "cell_type": "code",
   "execution_count": 9,
   "metadata": {},
   "outputs": [],
   "source": [
    "df['text_lemmatizer'] = df.text.apply(lemmatize_text)"
   ]
  },
  {
   "cell_type": "code",
   "execution_count": 10,
   "metadata": {},
   "outputs": [
    {
     "data": {
      "text/html": [
       "<div>\n",
       "<style scoped>\n",
       "    .dataframe tbody tr th:only-of-type {\n",
       "        vertical-align: middle;\n",
       "    }\n",
       "\n",
       "    .dataframe tbody tr th {\n",
       "        vertical-align: top;\n",
       "    }\n",
       "\n",
       "    .dataframe thead th {\n",
       "        text-align: right;\n",
       "    }\n",
       "</style>\n",
       "<table border=\"1\" class=\"dataframe\">\n",
       "  <thead>\n",
       "    <tr style=\"text-align: right;\">\n",
       "      <th></th>\n",
       "      <th>rating</th>\n",
       "      <th>title</th>\n",
       "      <th>text</th>\n",
       "      <th>text_lemmatizer</th>\n",
       "    </tr>\n",
       "  </thead>\n",
       "  <tbody>\n",
       "    <tr>\n",
       "      <th>0</th>\n",
       "      <td>10</td>\n",
       "      <td>Some birds aren't meant to be caged.\\n</td>\n",
       "      <td>The Shawshank Redemption is written and direct...</td>\n",
       "      <td>[The, Shawshank, Redemption, is, written, and,...</td>\n",
       "    </tr>\n",
       "    <tr>\n",
       "      <th>1</th>\n",
       "      <td>10</td>\n",
       "      <td>Tied for the best movie I have ever seen\\n</td>\n",
       "      <td>Why do I want to write the 234th comment on Th...</td>\n",
       "      <td>[Why, do, I, want, to, write, the, 234th, comm...</td>\n",
       "    </tr>\n",
       "    <tr>\n",
       "      <th>2</th>\n",
       "      <td>10</td>\n",
       "      <td>An incredible movie. One that lives with you.\\n</td>\n",
       "      <td>It is no wonder that the film has such a high ...</td>\n",
       "      <td>[It, is, no, wonder, that, the, film, ha, such...</td>\n",
       "    </tr>\n",
       "    <tr>\n",
       "      <th>3</th>\n",
       "      <td>10</td>\n",
       "      <td>Don't Rent Shawshank.\\n</td>\n",
       "      <td>I'm trying to save you money; this is the last...</td>\n",
       "      <td>[I'm, trying, to, save, you, money;, this, is,...</td>\n",
       "    </tr>\n",
       "    <tr>\n",
       "      <th>4</th>\n",
       "      <td>10</td>\n",
       "      <td>This is How Movies Should Be Made\\n</td>\n",
       "      <td>This movie is not your ordinary Hollywood flic...</td>\n",
       "      <td>[This, movie, is, not, your, ordinary, Hollywo...</td>\n",
       "    </tr>\n",
       "  </tbody>\n",
       "</table>\n",
       "</div>"
      ],
      "text/plain": [
       "   rating                                             title  \\\n",
       "0      10            Some birds aren't meant to be caged.\\n   \n",
       "1      10        Tied for the best movie I have ever seen\\n   \n",
       "2      10   An incredible movie. One that lives with you.\\n   \n",
       "3      10                           Don't Rent Shawshank.\\n   \n",
       "4      10               This is How Movies Should Be Made\\n   \n",
       "\n",
       "                                                text  \\\n",
       "0  The Shawshank Redemption is written and direct...   \n",
       "1  Why do I want to write the 234th comment on Th...   \n",
       "2  It is no wonder that the film has such a high ...   \n",
       "3  I'm trying to save you money; this is the last...   \n",
       "4  This movie is not your ordinary Hollywood flic...   \n",
       "\n",
       "                                     text_lemmatizer  \n",
       "0  [The, Shawshank, Redemption, is, written, and,...  \n",
       "1  [Why, do, I, want, to, write, the, 234th, comm...  \n",
       "2  [It, is, no, wonder, that, the, film, ha, such...  \n",
       "3  [I'm, trying, to, save, you, money;, this, is,...  \n",
       "4  [This, movie, is, not, your, ordinary, Hollywo...  "
      ]
     },
     "execution_count": 10,
     "metadata": {},
     "output_type": "execute_result"
    }
   ],
   "source": [
    "df.head()"
   ]
  },
  {
   "cell_type": "code",
   "execution_count": 11,
   "metadata": {},
   "outputs": [],
   "source": [
    "df['text_lemmatizer'] = [' '.join(map(str, l)) for l in df['text_lemmatizer']]"
   ]
  },
  {
   "cell_type": "code",
   "execution_count": 13,
   "metadata": {},
   "outputs": [],
   "source": [
    "df.drop('title', axis=1, inplace=True)"
   ]
  },
  {
   "cell_type": "code",
   "execution_count": 14,
   "metadata": {},
   "outputs": [
    {
     "data": {
      "text/html": [
       "<div>\n",
       "<style scoped>\n",
       "    .dataframe tbody tr th:only-of-type {\n",
       "        vertical-align: middle;\n",
       "    }\n",
       "\n",
       "    .dataframe tbody tr th {\n",
       "        vertical-align: top;\n",
       "    }\n",
       "\n",
       "    .dataframe thead th {\n",
       "        text-align: right;\n",
       "    }\n",
       "</style>\n",
       "<table border=\"1\" class=\"dataframe\">\n",
       "  <thead>\n",
       "    <tr style=\"text-align: right;\">\n",
       "      <th></th>\n",
       "      <th>rating</th>\n",
       "      <th>text</th>\n",
       "      <th>text_lemmatizer</th>\n",
       "    </tr>\n",
       "  </thead>\n",
       "  <tbody>\n",
       "    <tr>\n",
       "      <th>0</th>\n",
       "      <td>10</td>\n",
       "      <td>The Shawshank Redemption is written and direct...</td>\n",
       "      <td>The Shawshank Redemption is written and direct...</td>\n",
       "    </tr>\n",
       "    <tr>\n",
       "      <th>1</th>\n",
       "      <td>10</td>\n",
       "      <td>Why do I want to write the 234th comment on Th...</td>\n",
       "      <td>Why do I want to write the 234th comment on Th...</td>\n",
       "    </tr>\n",
       "    <tr>\n",
       "      <th>2</th>\n",
       "      <td>10</td>\n",
       "      <td>It is no wonder that the film has such a high ...</td>\n",
       "      <td>It is no wonder that the film ha such a high r...</td>\n",
       "    </tr>\n",
       "    <tr>\n",
       "      <th>3</th>\n",
       "      <td>10</td>\n",
       "      <td>I'm trying to save you money; this is the last...</td>\n",
       "      <td>I'm trying to save you money; this is the last...</td>\n",
       "    </tr>\n",
       "    <tr>\n",
       "      <th>4</th>\n",
       "      <td>10</td>\n",
       "      <td>This movie is not your ordinary Hollywood flic...</td>\n",
       "      <td>This movie is not your ordinary Hollywood flic...</td>\n",
       "    </tr>\n",
       "  </tbody>\n",
       "</table>\n",
       "</div>"
      ],
      "text/plain": [
       "   rating                                               text  \\\n",
       "0      10  The Shawshank Redemption is written and direct...   \n",
       "1      10  Why do I want to write the 234th comment on Th...   \n",
       "2      10  It is no wonder that the film has such a high ...   \n",
       "3      10  I'm trying to save you money; this is the last...   \n",
       "4      10  This movie is not your ordinary Hollywood flic...   \n",
       "\n",
       "                                     text_lemmatizer  \n",
       "0  The Shawshank Redemption is written and direct...  \n",
       "1  Why do I want to write the 234th comment on Th...  \n",
       "2  It is no wonder that the film ha such a high r...  \n",
       "3  I'm trying to save you money; this is the last...  \n",
       "4  This movie is not your ordinary Hollywood flic...  "
      ]
     },
     "execution_count": 14,
     "metadata": {},
     "output_type": "execute_result"
    }
   ],
   "source": [
    "df.head()"
   ]
  },
  {
   "cell_type": "code",
   "execution_count": 15,
   "metadata": {},
   "outputs": [
    {
     "data": {
      "text/plain": [
       "0        10\n",
       "1        10\n",
       "2        10\n",
       "3        10\n",
       "4        10\n",
       "         ..\n",
       "70191     1\n",
       "70192     8\n",
       "70193     2\n",
       "70194     5\n",
       "70195     7\n",
       "Name: rating, Length: 70196, dtype: int64"
      ]
     },
     "execution_count": 15,
     "metadata": {},
     "output_type": "execute_result"
    }
   ],
   "source": [
    "df.rating"
   ]
  },
  {
   "cell_type": "code",
   "execution_count": 16,
   "metadata": {},
   "outputs": [],
   "source": [
    "def assign_label(rating):\n",
    "    if rating <= 5:\n",
    "        return 0\n",
    "    return 1"
   ]
  },
  {
   "cell_type": "code",
   "execution_count": 17,
   "metadata": {},
   "outputs": [],
   "source": [
    "df['label'] = df['rating'].apply(assign_label)"
   ]
  },
  {
   "cell_type": "code",
   "execution_count": 18,
   "metadata": {},
   "outputs": [
    {
     "data": {
      "text/html": [
       "<div>\n",
       "<style scoped>\n",
       "    .dataframe tbody tr th:only-of-type {\n",
       "        vertical-align: middle;\n",
       "    }\n",
       "\n",
       "    .dataframe tbody tr th {\n",
       "        vertical-align: top;\n",
       "    }\n",
       "\n",
       "    .dataframe thead th {\n",
       "        text-align: right;\n",
       "    }\n",
       "</style>\n",
       "<table border=\"1\" class=\"dataframe\">\n",
       "  <thead>\n",
       "    <tr style=\"text-align: right;\">\n",
       "      <th></th>\n",
       "      <th>rating</th>\n",
       "      <th>text</th>\n",
       "      <th>text_lemmatizer</th>\n",
       "      <th>label</th>\n",
       "    </tr>\n",
       "  </thead>\n",
       "  <tbody>\n",
       "    <tr>\n",
       "      <th>0</th>\n",
       "      <td>10</td>\n",
       "      <td>The Shawshank Redemption is written and direct...</td>\n",
       "      <td>The Shawshank Redemption is written and direct...</td>\n",
       "      <td>1</td>\n",
       "    </tr>\n",
       "    <tr>\n",
       "      <th>1</th>\n",
       "      <td>10</td>\n",
       "      <td>Why do I want to write the 234th comment on Th...</td>\n",
       "      <td>Why do I want to write the 234th comment on Th...</td>\n",
       "      <td>1</td>\n",
       "    </tr>\n",
       "    <tr>\n",
       "      <th>2</th>\n",
       "      <td>10</td>\n",
       "      <td>It is no wonder that the film has such a high ...</td>\n",
       "      <td>It is no wonder that the film ha such a high r...</td>\n",
       "      <td>1</td>\n",
       "    </tr>\n",
       "    <tr>\n",
       "      <th>3</th>\n",
       "      <td>10</td>\n",
       "      <td>I'm trying to save you money; this is the last...</td>\n",
       "      <td>I'm trying to save you money; this is the last...</td>\n",
       "      <td>1</td>\n",
       "    </tr>\n",
       "    <tr>\n",
       "      <th>4</th>\n",
       "      <td>10</td>\n",
       "      <td>This movie is not your ordinary Hollywood flic...</td>\n",
       "      <td>This movie is not your ordinary Hollywood flic...</td>\n",
       "      <td>1</td>\n",
       "    </tr>\n",
       "  </tbody>\n",
       "</table>\n",
       "</div>"
      ],
      "text/plain": [
       "   rating                                               text  \\\n",
       "0      10  The Shawshank Redemption is written and direct...   \n",
       "1      10  Why do I want to write the 234th comment on Th...   \n",
       "2      10  It is no wonder that the film has such a high ...   \n",
       "3      10  I'm trying to save you money; this is the last...   \n",
       "4      10  This movie is not your ordinary Hollywood flic...   \n",
       "\n",
       "                                     text_lemmatizer  label  \n",
       "0  The Shawshank Redemption is written and direct...      1  \n",
       "1  Why do I want to write the 234th comment on Th...      1  \n",
       "2  It is no wonder that the film ha such a high r...      1  \n",
       "3  I'm trying to save you money; this is the last...      1  \n",
       "4  This movie is not your ordinary Hollywood flic...      1  "
      ]
     },
     "execution_count": 18,
     "metadata": {},
     "output_type": "execute_result"
    }
   ],
   "source": [
    "df.head()"
   ]
  }
 ],
 "metadata": {
  "kernelspec": {
   "display_name": "Python 3 (ipykernel)",
   "language": "python",
   "name": "python3"
  },
  "language_info": {
   "codemirror_mode": {
    "name": "ipython",
    "version": 3
   },
   "file_extension": ".py",
   "mimetype": "text/x-python",
   "name": "python",
   "nbconvert_exporter": "python",
   "pygments_lexer": "ipython3",
   "version": "3.9.12"
  }
 },
 "nbformat": 4,
 "nbformat_minor": 4
}
