{
 "cells": [
  {
   "cell_type": "markdown",
   "id": "df3d5e60",
   "metadata": {},
   "source": [
    "## Import Libraries"
   ]
  },
  {
   "cell_type": "code",
   "execution_count": null,
   "id": "3abf8045",
   "metadata": {},
   "outputs": [],
   "source": [
    "import pandas as pd\n",
    "from sklearn.feature_extraction.text import TfidfVectorizer\n",
    "from hazm import word_tokenize, stopwords_list\n",
    "from dadmatools.models.normalizer import Normalizer"
   ]
  },
  {
   "cell_type": "markdown",
   "id": "fb390190",
   "metadata": {},
   "source": [
    "## Data Reading"
   ]
  },
  {
   "cell_type": "code",
   "execution_count": null,
   "id": "a08ac0c7",
   "metadata": {
    "scrolled": true
   },
   "outputs": [],
   "source": [
    "train_df = pd.read_csv('data/snappfood_2class/train.csv', sep='\\t', encoding='utf-8')\n",
    "test_df = pd.read_csv('data/snappfood_2class/test.csv', sep='\\t', encoding='utf-8')\n",
    "train_df"
   ]
  },
  {
   "cell_type": "code",
   "execution_count": null,
   "id": "85f9d2ce",
   "metadata": {},
   "outputs": [],
   "source": [
    "train_X = train_df['comment'] \n",
    "train_Y = train_df['label_id'] \n",
    "\n",
    "test_X = test_df['comment'] \n",
    "test_Y = test_df['label_id'] "
   ]
  },
  {
   "cell_type": "markdown",
   "id": "fdd7f4d6",
   "metadata": {},
   "source": [
    "## Preprocessing and TF-IDF Vectorization"
   ]
  },
  {
   "cell_type": "code",
   "execution_count": null,
   "id": "4df7ffc2",
   "metadata": {},
   "outputs": [],
   "source": [
    "normalize = Normalizer(remove_puncs=True, replace_number_with=\"\")"
   ]
  },
  {
   "cell_type": "code",
   "execution_count": null,
   "id": "8cd22209",
   "metadata": {},
   "outputs": [],
   "source": [
    "tfidf = TfidfVectorizer(preprocessor=normalize.normalize,\n",
    "                        stop_words=stopwords_list(),\n",
    "                       tokenizer=word_tokenize)\n",
    "tf_idf_matrix = tfidf.fit_transform(train_X)"
   ]
  },
  {
   "cell_type": "code",
   "execution_count": null,
   "id": "71e0406a",
   "metadata": {},
   "outputs": [],
   "source": [
    "tf_idf_matrix.get_shape()"
   ]
  },
  {
   "cell_type": "markdown",
   "id": "30069c70",
   "metadata": {},
   "source": [
    "## Data Classification"
   ]
  },
  {
   "cell_type": "code",
   "execution_count": null,
   "id": "aacb1eac",
   "metadata": {},
   "outputs": [],
   "source": [
    "from sklearn.naive_bayes import MultinomialNB\n",
    "\n",
    "nb = MultinomialNB()\n",
    "clf = nb.fit(tf_idf_matrix, train_Y)"
   ]
  },
  {
   "cell_type": "code",
   "execution_count": null,
   "id": "feec99c6",
   "metadata": {},
   "outputs": [],
   "source": [
    "tf_idf_test = tfidf.transform(test_X)\n",
    "preds = clf.predict(tf_idf_test)"
   ]
  },
  {
   "cell_type": "code",
   "execution_count": null,
   "id": "07d2b3c8",
   "metadata": {},
   "outputs": [],
   "source": [
    "from sklearn.metrics import classification_report\n",
    "\n",
    "classification_report(test_Y, preds, target_names=['Sad', 'Happy'], output_dict=True)"
   ]
  },
  {
   "cell_type": "code",
   "execution_count": null,
   "id": "677ec0d0",
   "metadata": {},
   "outputs": [],
   "source": [
    "text = test_X.iloc[0]\n",
    "text"
   ]
  },
  {
   "cell_type": "code",
   "execution_count": null,
   "id": "4c286a87",
   "metadata": {},
   "outputs": [],
   "source": [
    "vec = tfidf.transform([text])\n",
    "clf.predict(vec)"
   ]
  },
  {
   "cell_type": "code",
   "execution_count": null,
   "id": "9adbd4cf",
   "metadata": {},
   "outputs": [],
   "source": []
  }
 ],
 "metadata": {
  "kernelspec": {
   "display_name": "Python 3 (ipykernel)",
   "language": "python",
   "name": "python3"
  },
  "language_info": {
   "codemirror_mode": {
    "name": "ipython",
    "version": 3
   },
   "file_extension": ".py",
   "mimetype": "text/x-python",
   "name": "python",
   "nbconvert_exporter": "python",
   "pygments_lexer": "ipython3",
   "version": "3.9.7"
  }
 },
 "nbformat": 4,
 "nbformat_minor": 5
}
